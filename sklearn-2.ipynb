{
 "cells": [
  {
   "cell_type": "code",
   "execution_count": 2,
   "id": "2a000ec1",
   "metadata": {},
   "outputs": [],
   "source": [
    "#flower classification using support vector machine(SVM)"
   ]
  },
  {
   "cell_type": "code",
   "execution_count": 40,
   "id": "fe2cac74",
   "metadata": {},
   "outputs": [],
   "source": [
    "#importing libraries\n",
    "from sklearn import datasets\n",
    "from sklearn.model_selection import train_test_split\n",
    "from sklearn import svm, metrics\n",
    "import numpy as np"
   ]
  },
  {
   "cell_type": "code",
   "execution_count": 41,
   "id": "6801c9ee",
   "metadata": {},
   "outputs": [],
   "source": [
    "#loading the dataset onto a variable\n",
    "iris=datasets.load_iris()"
   ]
  },
  {
   "cell_type": "code",
   "execution_count": 42,
   "id": "2f97e6d5",
   "metadata": {},
   "outputs": [
    {
     "name": "stdout",
     "output_type": "stream",
     "text": [
      "X: (150, 4)\n",
      "y: (150,)\n"
     ]
    }
   ],
   "source": [
    "#plitting the dataset into features and labels\n",
    "X=iris.data\n",
    "y=iris.target\n",
    "\n",
    "print(\"X:\", X.shape)\n",
    "print(\"y:\", y.shape)"
   ]
  },
  {
   "cell_type": "code",
   "execution_count": 43,
   "id": "eaaf5ca6",
   "metadata": {},
   "outputs": [],
   "source": [
    "#classification attributes\n",
    "classes=[\" Iris Setosa\", \"Iris Versicolour\", \"Iris Virginica\"]"
   ]
  },
  {
   "cell_type": "code",
   "execution_count": 44,
   "id": "5a273b3a",
   "metadata": {},
   "outputs": [],
   "source": [
    "#splitting the datainto training and test set\n",
    "X_train, X_test, y_train, y_test=train_test_split(X, y, train_size=0.8)"
   ]
  },
  {
   "cell_type": "code",
   "execution_count": 45,
   "id": "3b55d604",
   "metadata": {},
   "outputs": [
    {
     "name": "stdout",
     "output_type": "stream",
     "text": [
      "Training set:\n",
      "\n",
      "\n",
      "X_train:\n",
      " [[7.6 3.  6.6 2.1]\n",
      " [6.7 3.1 4.7 1.5]\n",
      " [4.8 3.4 1.6 0.2]\n",
      " [6.5 3.  5.2 2. ]\n",
      " [7.4 2.8 6.1 1.9]\n",
      " [7.9 3.8 6.4 2. ]\n",
      " [7.7 2.8 6.7 2. ]\n",
      " [6.  2.7 5.1 1.6]\n",
      " [6.4 3.2 4.5 1.5]\n",
      " [7.2 3.  5.8 1.6]\n",
      " [6.9 3.1 5.1 2.3]\n",
      " [5.  3.3 1.4 0.2]\n",
      " [6.  2.9 4.5 1.5]\n",
      " [5.8 2.7 3.9 1.2]\n",
      " [5.  3.5 1.6 0.6]\n",
      " [4.9 2.5 4.5 1.7]\n",
      " [6.1 2.8 4.7 1.2]\n",
      " [4.6 3.1 1.5 0.2]\n",
      " [6.  2.2 4.  1. ]\n",
      " [4.9 3.1 1.5 0.1]\n",
      " [6.8 2.8 4.8 1.4]\n",
      " [5.  3.5 1.3 0.3]\n",
      " [5.4 3.4 1.5 0.4]\n",
      " [4.8 3.1 1.6 0.2]\n",
      " [4.3 3.  1.1 0.1]\n",
      " [5.3 3.7 1.5 0.2]\n",
      " [4.7 3.2 1.6 0.2]\n",
      " [5.4 3.9 1.3 0.4]\n",
      " [5.7 2.6 3.5 1. ]\n",
      " [7.  3.2 4.7 1.4]\n",
      " [5.5 2.4 3.8 1.1]\n",
      " [6.  2.2 5.  1.5]\n",
      " [6.1 3.  4.9 1.8]\n",
      " [5.5 2.3 4.  1.3]\n",
      " [5.7 2.8 4.5 1.3]\n",
      " [5.7 2.8 4.1 1.3]\n",
      " [5.1 2.5 3.  1.1]\n",
      " [5.1 3.4 1.5 0.2]\n",
      " [6.3 2.9 5.6 1.8]\n",
      " [4.4 3.  1.3 0.2]\n",
      " [6.9 3.2 5.7 2.3]\n",
      " [5.9 3.2 4.8 1.8]\n",
      " [5.6 2.5 3.9 1.1]\n",
      " [5.8 2.7 5.1 1.9]\n",
      " [5.9 3.  4.2 1.5]\n",
      " [6.3 2.3 4.4 1.3]\n",
      " [5.8 2.6 4.  1.2]\n",
      " [7.2 3.2 6.  1.8]\n",
      " [6.4 2.7 5.3 1.9]\n",
      " [6.3 2.7 4.9 1.8]\n",
      " [6.3 3.3 6.  2.5]\n",
      " [6.  3.4 4.5 1.6]\n",
      " [6.3 2.5 5.  1.9]\n",
      " [5.7 2.9 4.2 1.3]\n",
      " [6.3 3.4 5.6 2.4]\n",
      " [7.1 3.  5.9 2.1]\n",
      " [5.8 2.7 5.1 1.9]\n",
      " [6.3 2.8 5.1 1.5]\n",
      " [5.7 3.  4.2 1.2]\n",
      " [5.  3.2 1.2 0.2]\n",
      " [4.4 3.2 1.3 0.2]\n",
      " [5.5 4.2 1.4 0.2]\n",
      " [5.5 2.6 4.4 1.2]\n",
      " [6.4 2.8 5.6 2.2]\n",
      " [5.5 2.5 4.  1.3]\n",
      " [6.9 3.1 5.4 2.1]\n",
      " [5.  3.4 1.5 0.2]\n",
      " [6.7 3.3 5.7 2.1]\n",
      " [6.2 2.9 4.3 1.3]\n",
      " [6.1 3.  4.6 1.4]\n",
      " [4.6 3.6 1.  0.2]\n",
      " [5.6 3.  4.5 1.5]\n",
      " [6.2 2.8 4.8 1.8]\n",
      " [5.2 4.1 1.5 0.1]\n",
      " [5.1 3.7 1.5 0.4]\n",
      " [6.5 2.8 4.6 1.5]\n",
      " [6.1 2.8 4.  1.3]\n",
      " [5.6 3.  4.1 1.3]\n",
      " [4.9 2.4 3.3 1. ]\n",
      " [5.1 3.8 1.5 0.3]\n",
      " [5.4 3.7 1.5 0.2]\n",
      " [5.9 3.  5.1 1.8]\n",
      " [6.7 3.3 5.7 2.5]\n",
      " [4.7 3.2 1.3 0.2]\n",
      " [5.1 3.5 1.4 0.2]\n",
      " [5.  2.3 3.3 1. ]\n",
      " [6.7 2.5 5.8 1.8]\n",
      " [7.7 3.8 6.7 2.2]\n",
      " [4.9 3.  1.4 0.2]\n",
      " [5.6 2.8 4.9 2. ]\n",
      " [6.6 2.9 4.6 1.3]\n",
      " [5.  3.4 1.6 0.4]\n",
      " [6.7 3.  5.  1.7]\n",
      " [6.7 3.  5.2 2.3]\n",
      " [7.7 3.  6.1 2.3]\n",
      " [5.  3.  1.6 0.2]\n",
      " [6.7 3.1 5.6 2.4]\n",
      " [6.3 3.3 4.7 1.6]\n",
      " [4.9 3.1 1.5 0.2]\n",
      " [5.4 3.9 1.7 0.4]\n",
      " [5.6 2.7 4.2 1.3]\n",
      " [5.1 3.8 1.6 0.2]\n",
      " [5.1 3.3 1.7 0.5]\n",
      " [6.9 3.1 4.9 1.5]\n",
      " [6.4 2.8 5.6 2.1]\n",
      " [5.2 3.4 1.4 0.2]\n",
      " [4.6 3.2 1.4 0.2]\n",
      " [5.7 2.5 5.  2. ]\n",
      " [6.1 2.9 4.7 1.4]\n",
      " [6.5 3.2 5.1 2. ]\n",
      " [4.8 3.  1.4 0.3]\n",
      " [5.7 4.4 1.5 0.4]\n",
      " [5.4 3.  4.5 1.5]\n",
      " [6.2 2.2 4.5 1.5]\n",
      " [5.2 2.7 3.9 1.4]\n",
      " [4.8 3.4 1.9 0.2]\n",
      " [4.5 2.3 1.3 0.3]\n",
      " [5.8 2.7 4.1 1. ]\n",
      " [6.7 3.1 4.4 1.4]\n",
      " [5.5 3.5 1.3 0.2]]\n",
      "\n",
      "y_train:\n",
      " [2 1 0 2 2 2 2 1 1 2 2 0 1 1 0 2 1 0 1 0 1 0 0 0 0 0 0 0 1 1 1 2 2 1 1 1 1\n",
      " 0 2 0 2 1 1 2 1 1 1 2 2 2 2 1 2 1 2 2 2 2 1 0 0 0 1 2 1 2 0 2 1 1 0 1 2 0\n",
      " 0 1 1 1 1 0 0 2 2 0 0 1 2 2 0 2 1 0 1 2 2 0 2 1 0 0 1 0 0 1 2 0 0 2 1 2 0\n",
      " 0 1 1 1 0 0 1 1 0]\n"
     ]
    }
   ],
   "source": [
    "#Training set\n",
    "print(\"Training set:\\n\\n\")\n",
    "print(\"X_train:\\n\", X_train)\n",
    "print(\"\\ny_train:\\n\", y_train)"
   ]
  },
  {
   "cell_type": "code",
   "execution_count": 46,
   "id": "57223e43",
   "metadata": {},
   "outputs": [],
   "source": [
    "#creating a model\n",
    "model=svm.SVC()"
   ]
  },
  {
   "cell_type": "code",
   "execution_count": 47,
   "id": "f352412a",
   "metadata": {},
   "outputs": [
    {
     "name": "stdout",
     "output_type": "stream",
     "text": [
      "SVC()\n"
     ]
    }
   ],
   "source": [
    "#training the model\n",
    "model.fit(X_train, y_train)\n",
    "print(model)"
   ]
  },
  {
   "cell_type": "code",
   "execution_count": 48,
   "id": "52b3913e",
   "metadata": {},
   "outputs": [
    {
     "name": "stdout",
     "output_type": "stream",
     "text": [
      "\n",
      "Actual set:\n",
      " [1 1 2 1 2 1 2 2 0 0 0 0 0 2 1 0 2 0 2 2 1 2 0 2 0 2 0 0 2 2]\n",
      "\n",
      "Predictions:\n",
      " [1 1 2 1 2 1 2 2 0 0 0 0 0 2 1 0 2 0 2 2 1 2 0 2 0 2 0 0 1 2]\n"
     ]
    }
   ],
   "source": [
    "#prediction\n",
    "prediction=model.predict(X_test)\n",
    "print(\"\\nActual set:\\n\", y_test.ravel())\n",
    "print(\"\\nPredictions:\\n\", prediction)"
   ]
  },
  {
   "cell_type": "code",
   "execution_count": 49,
   "id": "1fea598b",
   "metadata": {},
   "outputs": [
    {
     "name": "stdout",
     "output_type": "stream",
     "text": [
      "Wrong Outcomes :\n",
      " [0 0 0 0 0 0 0 0 0 0 0 0 0 0 0 0 0 0 0 0 0 0 0 0 0 0 0 0 1 0]\n"
     ]
    }
   ],
   "source": [
    "#wrong predictions\n",
    "#non zero values are the wrongly predicted outcomes\n",
    "print(\"Wrong Outcomes :\\n\", y_test.ravel()-prediction)"
   ]
  },
  {
   "cell_type": "code",
   "execution_count": 50,
   "id": "8bbff43e",
   "metadata": {},
   "outputs": [
    {
     "name": "stdout",
     "output_type": "stream",
     "text": [
      "Accuracy:  96.66666666666667 %\n"
     ]
    }
   ],
   "source": [
    "#accuracy of the model\n",
    "accuracy=metrics.accuracy_score(y_test, prediction)\n",
    "print(\"Accuracy: \", accuracy*100, \"%\")"
   ]
  }
 ],
 "metadata": {
  "kernelspec": {
   "display_name": "Python 3",
   "language": "python",
   "name": "python3"
  },
  "language_info": {
   "codemirror_mode": {
    "name": "ipython",
    "version": 3
   },
   "file_extension": ".py",
   "mimetype": "text/x-python",
   "name": "python",
   "nbconvert_exporter": "python",
   "pygments_lexer": "ipython3",
   "version": "3.8.8"
  }
 },
 "nbformat": 4,
 "nbformat_minor": 5
}
